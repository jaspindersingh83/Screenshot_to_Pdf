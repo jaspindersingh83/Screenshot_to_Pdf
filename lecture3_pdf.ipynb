{
 "cells": [
  {
   "cell_type": "code",
   "execution_count": 1,
   "metadata": {
    "collapsed": false
   },
   "outputs": [
    {
     "data": {
      "text/plain": [
       "['Screen Shot 2017-03-16 at 8.15.29 PM.png',\n",
       " 'Screen Shot 2017-03-16 at 8.15.31 PM.png',\n",
       " 'Screen Shot 2017-03-16 at 8.15.33 PM.png',\n",
       " 'Screen Shot 2017-03-16 at 8.15.37 PM.png',\n",
       " 'Screen Shot 2017-03-16 at 8.15.39 PM.png',\n",
       " 'Screen Shot 2017-03-16 at 8.15.43 PM.png',\n",
       " 'Screen Shot 2017-03-16 at 8.15.48 PM.png',\n",
       " 'Screen Shot 2017-03-16 at 8.15.54 PM.png',\n",
       " 'Screen Shot 2017-03-16 at 8.15.58 PM.png',\n",
       " 'Screen Shot 2017-03-16 at 8.16.06 PM.png']"
      ]
     },
     "execution_count": 1,
     "metadata": {},
     "output_type": "execute_result"
    }
   ],
   "source": [
    "import glob\n",
    "image_list=glob.glob('*.png')\n",
    "image_list[:10]"
   ]
  },
  {
   "cell_type": "code",
   "execution_count": 2,
   "metadata": {
    "collapsed": false
   },
   "outputs": [
    {
     "data": {
      "text/plain": [
       "''"
      ]
     },
     "execution_count": 2,
     "metadata": {},
     "output_type": "execute_result"
    }
   ],
   "source": [
    "from fpdf import FPDF\n",
    "pdf = FPDF()\n",
    "# imagelist is the list with all image filenames\n",
    "for image in image_list:\n",
    "    pdf.add_page()\n",
    "    pdf.image(image,30,30,150,120)\n",
    "pdf.output(\"yourfile.pdf\", \"F\")"
   ]
  },
  {
   "cell_type": "code",
   "execution_count": null,
   "metadata": {
    "collapsed": true
   },
   "outputs": [],
   "source": []
  }
 ],
 "metadata": {
  "kernelspec": {
   "display_name": "Python 3",
   "language": "python",
   "name": "python3"
  },
  "language_info": {
   "codemirror_mode": {
    "name": "ipython",
    "version": 3
   },
   "file_extension": ".py",
   "mimetype": "text/x-python",
   "name": "python",
   "nbconvert_exporter": "python",
   "pygments_lexer": "ipython3",
   "version": "3.6.0"
  }
 },
 "nbformat": 4,
 "nbformat_minor": 2
}
